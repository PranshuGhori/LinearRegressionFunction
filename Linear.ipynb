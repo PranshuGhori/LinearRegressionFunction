{
 "cells": [
  {
   "cell_type": "code",
   "execution_count": 5,
   "id": "f551a6ba-a71d-4952-a1b6-08202684e9df",
   "metadata": {},
   "outputs": [],
   "source": [
    "import numpy as np\n",
    "import pandas as pd\n",
    "import matplotlib.pyplot as plt\n",
    "import seaborn as sns \n",
    "import scipy.stats as stats "
   ]
  },
  {
   "cell_type": "code",
   "execution_count": 6,
   "id": "86234a84-fc95-4ab9-9d9e-7983416b69ef",
   "metadata": {},
   "outputs": [],
   "source": [
    "x = [1000, 1200, 1500, 1800, 2000, 2200, 2500, 2800, 3000, 3500]\n",
    "y = [150, 180, 210, 240, 270, 300, 330, 360, 390, 450]"
   ]
  },
  {
   "cell_type": "code",
   "execution_count": 7,
   "id": "7ea16086-14f5-4c44-9617-42b6dd0bb60e",
   "metadata": {},
   "outputs": [],
   "source": [
    "def LinearRegressionModelGraph(x, y):\n",
    "\n",
    "    x = np.array(x)\n",
    "    y = np.array(y)\n",
    "    x_mean = np.mean(x)\n",
    "    y_mean = np.mean(y)\n",
    "\n",
    "\n",
    "    B1 = np.sum((x - x_mean) * (y - y_mean)) / np.sum((x - x_mean)**2)\n",
    "    B0 = y_mean - B1 * x_mean\n",
    "    y_prediction = B0 + B1 * x\n",
    "    return (\n",
    "    plt.scatter(x, y, color='blue', label='Actual'),\n",
    "    plt.plot(x, y_prediction, color='red', label='Fitted Line'),\n",
    "    plt.xlabel('X'),\n",
    "    plt.ylabel('Y'),\n",
    "    plt.title('Simple Linear Regression'),\n",
    "    plt.legend(),\n",
    "    plt.show(),\n",
    "    )"
   ]
  },
  {
   "cell_type": "code",
   "execution_count": 8,
   "id": "5d63b33d-72db-4df3-b7d0-5c3701760669",
   "metadata": {},
   "outputs": [
    {
     "data": {
      "image/png": "[encoded data removed]",
      "text/plain": [
       "<Figure size 640x480 with 1 Axes>"
      ]
     },
     "metadata": {},
     "output_type": "display_data"
    },
    {
     "data": {
      "text/plain": [
       "(<matplotlib.collections.PathCollection at 0x14f9f5940>,\n",
       " [<matplotlib.lines.Line2D at 0x14f9f0550>],\n",
       " Text(0.5, 24.0, 'X'),\n",
       " Text(24.000000000000007, 0.5, 'Y'),\n",
       " Text(0.5, 1.0, 'Simple Linear Regression'),\n",
       " <matplotlib.legend.Legend at 0x14f9f5fd0>,\n",
       " None)"
      ]
     },
     "execution_count": 8,
     "metadata": {},
     "output_type": "execute_result"
    }
   ],
   "source": [
    "LinearRegressionModelGraph(x, y)"
   ]
  },
  {
   "cell_type": "code",
   "execution_count": 9,
   "id": "5645cc80-e1af-469e-a85f-ac091bc3f9d6",
   "metadata": {},
   "outputs": [],
   "source": [
    "def SimpleLinearRegression(x, y):\n",
    "    x = np.array(x)\n",
    "    y = np.array(y)\n",
    "    x_mean = np.mean(x)\n",
    "    y_mean = np.mean(y)\n",
    "    n = len(x)\n",
    "\n",
    "    B1 = np.sum((x - x_mean) * (y - y_mean)) / np.sum((x - x_mean)**2)\n",
    "    B0 = y_mean - B1 * x_mean\n",
    "    y_pred = B0 + B1 * x\n",
    "\n",
    "    sst = sum((y-y_mean)**2)\n",
    "    ssr = sum((y_pred-y_mean)**2)\n",
    "    sse = sum((y - y_pred)**2)\n",
    "    r2 = ssr / sst\n",
    "    s = ((sse)/(n-2))**0.5\n",
    "    standard_error_b1 = s / np.sqrt(sum((x-x_mean)**2))\n",
    "    standard_error_b0 = s * np.sqrt((1/n) + (x_mean**2)/np.sum((x - x_mean)**2))\n",
    "    t_stats_b1 = (B1 - 0)/(standard_error_b1)\n",
    "    t_stats_b0 = (B0 - 0)/(standard_error_b0)\n",
    "    t_crit = stats.t.ppf(0.975, df=n-2)\n",
    "    ci_b1 = (B1 - t_crit * standard_error_b1, B1 + t_crit * standard_error_b1)\n",
    "    ci_b0 = (B0 - t_crit * standard_error_b0, B0 + t_crit * standard_error_b0)\n",
    "\n",
    "    ci_b1 = (B1 - t_crit * standard_error_b1, B1 + t_crit * standard_error_b1)\n",
    "    ci_b0 = (B0 - t_crit * standard_error_b0, B0 + t_crit * standard_error_b0)\n",
    "    p_b1 = 2*(1 - stats.t.cdf(abs(t_stats_b1), df=n-2))\n",
    "    p_b0 = 2*(1 - stats.t.cdf(abs(t_stats_b0), df=n-2))\n",
    "\n",
    "    table = pd.DataFrame({\n",
    "        \"Term\": [\"Intercept\", \"Slope\"],\n",
    "        \"Coefficient\": [B0, B1],\n",
    "        \"Std Error\": [standard_error_b0, standard_error_b1],\n",
    "        \"t-Statistic\": [t_stats_b0, t_stats_b1],\n",
    "        \"P-Value\": [p_b0, p_b1],\n",
    "        \"95% CI Lower\": [ci_b0[0], ci_b1[0]],\n",
    "        \"95% CI Upper\": [ci_b0[1], ci_b1[1]],\n",
    "    \n",
    "    \n",
    "    })\n",
    "    \n",
    "    return table\n"
   ]
  },
  {
   "cell_type": "code",
   "execution_count": 57,
   "id": "a35aa13c-ec26-4947-ba40-73df59bdb554",
   "metadata": {},
   "outputs": [
    {
     "data": {
      "text/html": [
       "<div>\n",
       "<style scoped>\n",
       "    .dataframe tbody tr th:only-of-type {\n",
       "        vertical-align: middle;\n",
       "    }\n",
       "\n",
       "    .dataframe tbody tr th {\n",
       "        vertical-align: top;\n",
       "    }\n",
       "\n",
       "    .dataframe thead th {\n",
       "        text-align: right;\n",
       "    }\n",
       "</style>\n",
       "<table border=\"1\" class=\"dataframe\">\n",
       "  <thead>\n",
       "    <tr style=\"text-align: right;\">\n",
       "      <th></th>\n",
       "      <th>Term</th>\n",
       "      <th>Coefficient</th>\n",
       "      <th>Std Error</th>\n",
       "      <th>t-Statistic</th>\n",
       "      <th>P-Value</th>\n",
       "      <th>95% CI Lower</th>\n",
       "      <th>95% CI Upper</th>\n",
       "    </tr>\n",
       "  </thead>\n",
       "  <tbody>\n",
       "    <tr>\n",
       "      <th>0</th>\n",
       "      <td>Intercept</td>\n",
       "      <td>32.630416</td>\n",
       "      <td>3.868267</td>\n",
       "      <td>8.435409</td>\n",
       "      <td>2.976042e-05</td>\n",
       "      <td>23.710176</td>\n",
       "      <td>41.550656</td>\n",
       "    </tr>\n",
       "    <tr>\n",
       "      <th>1</th>\n",
       "      <td>Slope</td>\n",
       "      <td>0.118777</td>\n",
       "      <td>0.001695</td>\n",
       "      <td>70.093022</td>\n",
       "      <td>1.911138e-12</td>\n",
       "      <td>0.114869</td>\n",
       "      <td>0.122684</td>\n",
       "    </tr>\n",
       "  </tbody>\n",
       "</table>\n",
       "</div>"
      ],
      "text/plain": [
       "        Term  Coefficient  Std Error  t-Statistic       P-Value  95% CI Lower  \\\n",
       "0  Intercept    32.630416   3.868267     8.435409  2.976042e-05     23.710176   \n",
       "1      Slope     0.118777   0.001695    70.093022  1.911138e-12      0.114869   \n",
       "\n",
       "   95% CI Upper  \n",
       "0     41.550656  \n",
       "1      0.122684  "
      ]
     },
     "execution_count": 57,
     "metadata": {},
     "output_type": "execute_result"
    }
   ],
   "source": [
    "SimpleLinearRegression(x, y)"
   ]
  },
  {
   "cell_type": "markdown",
   "id": "8846d7b9-1792-451d-9ba3-55d701043697",
   "metadata": {},
   "source": [
    "Expanding to Multiple linear regression \n",
    "Y = B0 + B1X1 + B2X2 + .... +BNXN + e \n",
    "\n",
    "where B0, B1, Bn are coefficient of pricdictor (X1, X2, Xn) respectively \n",
    "\n"
   ]
  },
  {
   "cell_type": "code",
   "execution_count": 40,
   "id": "44d2aa77-5aaa-4cdb-aee5-9a95b16c1f86",
   "metadata": {},
   "outputs": [],
   "source": [
    "TV = np.array([230.1, 44.5, 17.2, 151.5, 180.8, 8.7, 57.5, 120.2, 8.6, 199.8])\n",
    "Radio = np.array([37.8, 39.3, 45.9, 41.3, 10.8, 48.9, 32.8, 19.6, 2.1, 2.6])\n",
    "Newspaper = np.array([69.2, 45.1, 69.3, 58.5, 58.4, 75.0, 23.5, 11.6, 1.0, 21.2])\n",
    "SocialMedia = np.array([12.1, 7.3, 4.1, 15.4, 8.5, 5.2, 11.3, 14.4, 0.5, 6.3])\n",
    "Sales = np.array([22.1, 10.4, 9.3, 18.5, 12.9, 7.2, 11.8, 13.2, 4.8, 10.6])"
   ]
  },
  {
   "cell_type": "code",
   "execution_count": 96,
   "id": "60c2780f-ef18-4bc7-8594-d3a52ce741ee",
   "metadata": {},
   "outputs": [],
   "source": [
    "def MultiLinearRegression(*X, y):\n",
    "\n",
    "    X = np.column_stack(X)\n",
    "    p = X.shape[1] - 1\n",
    "    X = np.c_[np.ones(X.shape[0]), X]\n",
    "    n = len(y)\n",
    "    \n",
    "    \n",
    "    y_mean = y.mean()\n",
    "    x_mean = np.mean(X, axis = 0)\n",
    "    \n",
    "    y = y.reshape(-1, 1)\n",
    "    beta = np.linalg.inv(X.T @ X) @ X.T @ y \n",
    "    y_pred = X @ beta\n",
    "    \n",
    "    sst = np.sum((y-y_mean)**2)\n",
    "    sse = np.sum((y-y_pred)**2)\n",
    "    ssr = sst - sse\n",
    "    \n",
    "    r2 = ssr / sst\n",
    "\n",
    "    adj_r2 = 1 - (1-r2) * ((n - 1) / (n - p - 1))\n",
    "    \n",
    "    table = pd.DataFrame({\n",
    "        \n",
    "       \"R2\": [r2],\n",
    "        \"Adj R²\": [adj_r2],\n",
    "        \"SST\": [sst],\n",
    "        \"SSR\": [ssr],\n",
    "        \"SSE\": [sse],\n",
    "        \"n\": [n],\n",
    "        \"p\": [p]\n",
    "    })\n",
    "    \n",
    "   \n",
    "    return table"
   ]
  },
  {
   "cell_type": "code",
   "execution_count": 97,
   "id": "a9ac9099-b33e-4406-803e-83a7a6f3f021",
   "metadata": {},
   "outputs": [
    {
     "data": {
      "text/html": [
       "<div>\n",
       "<style scoped>\n",
       "    .dataframe tbody tr th:only-of-type {\n",
       "        vertical-align: middle;\n",
       "    }\n",
       "\n",
       "    .dataframe tbody tr th {\n",
       "        vertical-align: top;\n",
       "    }\n",
       "\n",
       "    .dataframe thead th {\n",
       "        text-align: right;\n",
       "    }\n",
       "</style>\n",
       "<table border=\"1\" class=\"dataframe\">\n",
       "  <thead>\n",
       "    <tr style=\"text-align: right;\">\n",
       "      <th></th>\n",
       "      <th>R2</th>\n",
       "      <th>Adj R²</th>\n",
       "      <th>SST</th>\n",
       "      <th>SSR</th>\n",
       "      <th>SSE</th>\n",
       "      <th>n</th>\n",
       "      <th>p</th>\n",
       "    </tr>\n",
       "  </thead>\n",
       "  <tbody>\n",
       "    <tr>\n",
       "      <th>0</th>\n",
       "      <td>0.917923</td>\n",
       "      <td>0.876884</td>\n",
       "      <td>233.176</td>\n",
       "      <td>214.037498</td>\n",
       "      <td>19.138502</td>\n",
       "      <td>10</td>\n",
       "      <td>3</td>\n",
       "    </tr>\n",
       "  </tbody>\n",
       "</table>\n",
       "</div>"
      ],
      "text/plain": [
       "         R2    Adj R²      SST         SSR        SSE   n  p\n",
       "0  0.917923  0.876884  233.176  214.037498  19.138502  10  3"
      ]
     },
     "execution_count": 97,
     "metadata": {},
     "output_type": "execute_result"
    }
   ],
   "source": [
    "MultiLinearRegression(TV, Radio, Newspaper, SocialMedia, y=Sales)"
   ]
  },
  {
   "cell_type": "code",
   "execution_count": null,
   "id": "610dfcf8-375f-4da0-bc3b-a337e1ffc081",
   "metadata": {},
   "outputs": [],
   "source": []
  }
 ],
 "metadata": {
  "kernelspec": {
   "display_name": "Python [conda env:base] *",
   "language": "python",
   "name": "conda-base-py"
  },
  "language_info": {
   "codemirror_mode": {
    "name": "ipython",
    "version": 3
   },
   "file_extension": ".py",
   "mimetype": "text/x-python",
   "name": "python",
   "nbconvert_exporter": "python",
   "pygments_lexer": "ipython3",
   "version": "3.13.5"
  }
 },
 "nbformat": 4,
 "nbformat_minor": 5
}
